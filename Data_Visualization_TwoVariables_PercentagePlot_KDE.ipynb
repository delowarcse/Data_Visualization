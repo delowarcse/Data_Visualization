{
 "cells": [
  {
   "cell_type": "markdown",
   "metadata": {},
   "source": [
    "# This program is the implementation of the data visualization of two varibales with KDE and percentage plot"
   ]
  },
  {
   "cell_type": "code",
   "execution_count": null,
   "metadata": {},
   "outputs": [],
   "source": [
    "# Import necessary dependencies\n",
    "import pandas as pd\n",
    "import matplotlib.pyplot as plt\n",
    "from mpl_toolkits.mplot3d import Axes3D\n",
    "import matplotlib as mpl\n",
    "import numpy as np\n",
    "import seaborn as sns\n",
    "\n",
    "%matplotlib inline\n",
    "\n",
    "# Load and merge datasets # white = control; red = stroke; wine = data\n",
    "stroke_data = pd.read_csv('Injured Participants Data.csv', delim_whitespace=False)\n",
    "control_data = pd.read_csv('Healthy Control.csv', delim_whitespace=False)\n",
    "\n",
    "# store wine type as an attribute\n",
    "stroke_data['data_type'] = 'stroke'   \n",
    "control_data['data_type'] = 'control'\n",
    "\n",
    "# merge control and stroke data\n",
    "datas = pd.concat([stroke_data, control_data])\n",
    "datas = datas.sample(frac=1, random_state=42).reset_index(drop=True)\n",
    "\n",
    "# understand dataset features and values\n",
    "datas.head()\n",
    "#stroke_data.head()\n",
    "#control_data.head()"
   ]
  },
  {
   "cell_type": "code",
   "execution_count": null,
   "metadata": {},
   "outputs": [],
   "source": [
    "#plt.close(2)\n",
    "fig1 = plt.figure(figsize = (6, 4))\n",
    "#title = fig.suptitle(\"Variability Y in Data\", fontsize=14)\n",
    "fig1.subplots_adjust(top=0.85, wspace=0.3)\n",
    "ax = fig1.add_subplot(1,1, 1)\n",
    "\n",
    "g1 = sns.FacetGrid(datas, hue='data_type', palette={\"stroke\": \"fuchsia\", \"control\": \"black\"})\n",
    "g1.map(sns.distplot, 'Variability Y', kde=False, bins=15, ax=ax)\n",
    "ax.legend(title='Data Type')\n",
    "\n",
    "ax.yaxis.set_major_formatter(mtick.PercentFormatter(xmax=465))\n",
    "ax.set_xlabel(\"Variability Y (m)\")\n",
    "ax.set_ylabel(\"Participants (%)\")\n",
    "\n",
    "# Hide the right and top spines\n",
    "ax.spines['right'].set_visible(False)\n",
    "ax.spines['top'].set_visible(False)\n",
    "# Only show ticks on the left and bottom spines\n",
    "ax.yaxis.set_ticks_position('left')\n",
    "ax.xaxis.set_ticks_position('bottom')\n",
    "\n",
    "#fig.savefig('Variability (percentage).png',bbox_inches='tight')\n",
    "plt.close(2)"
   ]
  },
  {
   "cell_type": "code",
   "execution_count": null,
   "metadata": {},
   "outputs": [],
   "source": [
    "import matplotlib.ticker as mtick\n",
    "fig = plt.figure(figsize = (10, 4))\n",
    "#title = fig.suptitle(\"Variability X (m) in Data\", fontsize=14)\n",
    "fig.subplots_adjust(top=0.85, wspace=0.3)\n",
    "\n",
    "fig, ax = plt.subplots()\n",
    "sns.kdeplot(stroke_data['Variability Y'], ax=ax, shade=True, color='fuchsia', label='Stroke')\n",
    "sns.kdeplot(control_data['Variability Y'], ax=ax, shade=True, color='black', label='Control')\n",
    "ax.legend(title='Data Type')\n",
    "\n",
    "ax.yaxis.set_major_formatter(mtick.PercentFormatter(xmax=465)) #xmax=429\n",
    "ax.set_xlabel(\"Variability Y (m)\")\n",
    "ax.set_ylabel(\"Participants (%)\")\n",
    "\n",
    "# Hide the right and top spines\n",
    "ax.spines['right'].set_visible(False)\n",
    "ax.spines['top'].set_visible(False)\n",
    "# Only show ticks on the left and bottom spines\n",
    "ax.yaxis.set_ticks_position('left')\n",
    "ax.xaxis.set_ticks_position('bottom')\n",
    "#fig.savefig('Abs err X (percentage).png',bbox_inches='tight')\n",
    "#plt.close(2)"
   ]
  },
  {
   "cell_type": "code",
   "execution_count": null,
   "metadata": {},
   "outputs": [],
   "source": [
    "fig.savefig('Varibaility_Y_11032022_300dpi.jpg', dpi=300)"
   ]
  },
  {
   "cell_type": "code",
   "execution_count": null,
   "metadata": {},
   "outputs": [],
   "source": [
    "fig.savefig('Varibaility_Y_11032022_600dpi.jpg', dpi=600)"
   ]
  },
  {
   "cell_type": "code",
   "execution_count": null,
   "metadata": {},
   "outputs": [],
   "source": [
    "fig.savefig('Varibaility_Y_11032022_1200dpi.jpg', dpi=1200)"
   ]
  },
  {
   "cell_type": "code",
   "execution_count": null,
   "metadata": {},
   "outputs": [],
   "source": [
    "fig.savefig('Varibaility_Y_11032022_3000dpi.jpg', dpi=3000)"
   ]
  },
  {
   "cell_type": "code",
   "execution_count": null,
   "metadata": {},
   "outputs": [],
   "source": [
    "import matplotlib.ticker as mtick\n",
    "fig = plt.figure(figsize = (10, 4))\n",
    "#title = fig.suptitle(\"Variability X (m) in Data\", fontsize=14)\n",
    "fig.subplots_adjust(top=0.85, wspace=0.3)\n",
    "\n",
    "fig, ax = plt.subplots()\n",
    "sns.kdeplot(stroke_data['Variability Y'], ax=ax, shade=True, color='fuchsia', label='Stroke')\n",
    "sns.kdeplot(control_data['Variability Y'], ax=ax, shade=True, color='black', label='Control')\n",
    "ax.legend(title='Data Type')\n",
    "\n",
    "#ax.yaxis.set_major_formatter(mtick.PercentFormatter(xmax=465)) #xmax=429\n",
    "ax.set_xlabel(\"Variability Y (m)\")\n",
    "ax.set_ylabel(\"Participants (%)\")\n",
    "\n",
    "# Hide the right and top spines\n",
    "ax.spines['right'].set_visible(False)\n",
    "ax.spines['top'].set_visible(False)\n",
    "# Only show ticks on the left and bottom spines\n",
    "ax.yaxis.set_ticks_position('left')\n",
    "ax.xaxis.set_ticks_position('bottom')"
   ]
  },
  {
   "cell_type": "code",
   "execution_count": null,
   "metadata": {},
   "outputs": [],
   "source": []
  }
 ],
 "metadata": {
  "kernelspec": {
   "display_name": "Python 3",
   "language": "python",
   "name": "python3"
  },
  "language_info": {
   "codemirror_mode": {
    "name": "ipython",
    "version": 3
   },
   "file_extension": ".py",
   "mimetype": "text/x-python",
   "name": "python",
   "nbconvert_exporter": "python",
   "pygments_lexer": "ipython3",
   "version": "3.7.4"
  }
 },
 "nbformat": 4,
 "nbformat_minor": 2
}
