{
 "cells": [
  {
   "cell_type": "markdown",
   "metadata": {},
   "source": [
    "# This program is the implementation of Data Visualization with Kernel Density Estimation (KDE) Function"
   ]
  },
  {
   "cell_type": "code",
   "execution_count": null,
   "metadata": {},
   "outputs": [],
   "source": [
    "# Import necessary dependencies\n",
    "import pandas as pd\n",
    "import matplotlib.pyplot as plt\n",
    "from mpl_toolkits.mplot3d import Axes3D\n",
    "import matplotlib as mpl\n",
    "import numpy as np\n",
    "import seaborn as sns\n",
    "from sklearn import preprocessing\n",
    "\n",
    "%matplotlib inline\n",
    "\n",
    "# Load and merge datasets # white = control; red = stroke; wine = data\n",
    "stroke_data = pd.read_csv('Injured Participants Data.csv', delim_whitespace=False)\n",
    "control_data = pd.read_csv('Healthy Control Data.csv', delim_whitespace=False)\n",
    "\n",
    "# store wine type as an attribute\n",
    "stroke_data['data_type'] = 'stroke'   \n",
    "control_data['data_type'] = 'control'\n",
    "\n",
    "# merge control and stroke data\n",
    "datas = pd.concat([control_data, stroke_data])\n",
    "#datas['quality_label'] = datas['Abs error XY'].apply(lambda value: 'low' if value < 0.02 else 'medium' if value < 0.04 else 'high')\n",
    "\n",
    "datas = datas.sample(frac=1, random_state=42).reset_index(drop=True)\n",
    "#datas = preprocessing.scale(datas)\n",
    "\n",
    "# understand dataset features and values\n",
    "datas.head()\n",
    "#stroke_data.head()\n",
    "#control_data.head()"
   ]
  },
  {
   "cell_type": "code",
   "execution_count": null,
   "metadata": {},
   "outputs": [],
   "source": [
    "# Descriptive Statistics\n",
    "subset_attributes = ['Abs error X', 'Abs error Y', 'Abs error XY', 'Variability X', 'Variability Y', 'Variability XY', 'Contraction expansion ratio X', 'Contraction expansion ratio Y', 'Contraction expansion ratio XY', 'Shift X','Shift Y','Shift XY']\n",
    "sd = round(stroke_data[subset_attributes].describe(),2)\n",
    "cd = round(control_data[subset_attributes].describe(),2)\n",
    "pd.concat([cd, sd], axis=0, keys=['Control Data Statistics', 'Stroke Data Statistics'])"
   ]
  },
  {
   "cell_type": "code",
   "execution_count": null,
   "metadata": {},
   "outputs": [],
   "source": [
    "# Visualizing one dimension\n",
    "datas.hist(bins=15, color='steelblue', edgecolor='black', linewidth=1.0,\n",
    "              xlabelsize=9, ylabelsize=9, grid=False)    \n",
    "plt.tight_layout(rect=(0, 0, 1.2, 1.2))"
   ]
  },
  {
   "cell_type": "code",
   "execution_count": null,
   "metadata": {},
   "outputs": [],
   "source": [
    "# Visualizing two dimensions\n",
    "f, ax = plt.subplots(figsize=(11,8)) #11,8\n",
    "corr = datas.corr()\n",
    "hm = sns.heatmap(round(corr,2), annot=True, ax=ax, cmap=\"coolwarm\",fmt='.2f',linewidths=.05)\n",
    "f.subplots_adjust(top=0.9, bottom=0.1)\n",
    "t= f.suptitle('Arm Position Matching Attributes Correlation Heatmap', fontsize=14)"
   ]
  },
  {
   "cell_type": "code",
   "execution_count": null,
   "metadata": {},
   "outputs": [],
   "source": [
    "cols = ['Abs error X', 'Abs error Y', 'Abs error XY', 'Variability X', 'Variability Y', 'Variability XY', 'Contraction expansion ratio X', 'Contraction expansion ratio Y', 'Contraction expansion ratio XY', 'Shift X','Shift Y','Shift XY']\n",
    "pp = sns.pairplot(datas[cols], size=1.8, aspect=1.8,\n",
    "                  plot_kws=dict(edgecolor=\"k\", linewidth=0.5),diag_kind=\"kde\", diag_kws=dict(shade=True))\n",
    "\n",
    "fig = pp.fig \n",
    "fig.subplots_adjust(top=0.93, wspace=0.3)\n",
    "t = fig.suptitle('Arm Position Matching Attributes Pairwise Plots', fontsize=14)"
   ]
  },
  {
   "cell_type": "code",
   "execution_count": null,
   "metadata": {},
   "outputs": [],
   "source": [
    "cols = ['Abs error X', 'Abs error Y', 'Abs error XY', 'Variability X', 'Variability Y', 'Variability XY', 'Contraction expansion ratio X', 'Contraction expansion ratio Y', 'Contraction expansion ratio XY', 'Shift X','Shift Y','Shift XY']\n",
    "subset_df = datas[cols]\n",
    "\n",
    "from sklearn.preprocessing import StandardScaler\n",
    "\n",
    "ss = StandardScaler()\n",
    "scaled_df = ss.fit_transform(subset_df)\n",
    "scaled_df = pd.DataFrame(scaled_df, columns=cols)\n",
    "scaled_df.reset_index(drop=True, inplace=True)\n",
    "datas.reset_index(drop=True, inplace=True)\n",
    "final_df = pd.concat([scaled_df, datas['data_type']], axis=1)\n",
    "final_df.head()"
   ]
  },
  {
   "cell_type": "code",
   "execution_count": null,
   "metadata": {
    "scrolled": true
   },
   "outputs": [],
   "source": [
    "from pandas.plotting import parallel_coordinates\n",
    "\n",
    "pc = parallel_coordinates(final_df, 'data_type', color=('#FFE888', '#FF9999'))"
   ]
  },
  {
   "cell_type": "markdown",
   "metadata": {},
   "source": [
    "Two Continuous Numeric attributes"
   ]
  },
  {
   "cell_type": "code",
   "execution_count": null,
   "metadata": {},
   "outputs": [],
   "source": [
    "# Two Continuous Numeric attributes\n",
    "plt.scatter(datas['Abs error X'], datas['Abs error Y'],\n",
    "            alpha=0.4, edgecolors='w')\n",
    "\n",
    "plt.xlabel('Abs error X')\n",
    "plt.ylabel('Abs error Y')\n",
    "plt.title('Abs Error',y=1.05)"
   ]
  },
  {
   "cell_type": "code",
   "execution_count": null,
   "metadata": {},
   "outputs": [],
   "source": [
    "jp = sns.jointplot(x='Abs error X', y='Abs error Y', data=datas,\n",
    "              kind='reg', space=0, size=5, ratio=4)"
   ]
  },
  {
   "cell_type": "markdown",
   "metadata": {},
   "source": [
    "Mixed attributes (numeric & categorical)"
   ]
  },
  {
   "cell_type": "code",
   "execution_count": null,
   "metadata": {},
   "outputs": [],
   "source": [
    "fig = plt.figure(figsize = (10,4))\n",
    "title = fig.suptitle(\"Abs Error in Data\", fontsize=14)\n",
    "fig.subplots_adjust(top=0.85, wspace=0.3)\n",
    "\n",
    "ax1 = fig.add_subplot(1,2, 1)\n",
    "ax1.set_title(\"Control Data\")\n",
    "ax1.set_xlabel(\"Abs error X\")\n",
    "ax1.set_ylabel(\"Frequency\") \n",
    "ax1.set_ylim([0, 200])\n",
    "#ax1.text(1.2, 800, r'$\\mu$='+str(round(control_data['Abs error X'].mean(),2)), fontsize=12)\n",
    "r_freq, r_bins, r_patches = ax1.hist(control_data['Abs error X'], color='red', bins=15,\n",
    "                                     edgecolor='black', linewidth=1)\n",
    "\n",
    "ax2 = fig.add_subplot(1,2, 2)\n",
    "ax2.set_title(\"Stroke Data\")\n",
    "ax2.set_xlabel(\"Abs error X\")\n",
    "ax2.set_ylabel(\"Frequency\")\n",
    "ax2.set_ylim([0, 200])\n",
    "#ax2.text(0.8, 800, r'$\\mu$='+str(round(stroke_data['Abs error X'].mean(),2)), fontsize=12)\n",
    "w_freq, w_bins, w_patches = ax2.hist(stroke_data['Abs error X'], color='green', bins=15,\n",
    "                                     edgecolor='black', linewidth=1)"
   ]
  },
  {
   "cell_type": "code",
   "execution_count": null,
   "metadata": {},
   "outputs": [],
   "source": [
    "fig = plt.figure(figsize = (10, 4))\n",
    "title = fig.suptitle(\"Abs Error in Data\", fontsize=14)\n",
    "fig.subplots_adjust(top=0.85, wspace=0.3)\n",
    "\n",
    "ax1 = fig.add_subplot(1,2, 1)\n",
    "ax1.set_title(\"Control Data\")\n",
    "ax1.set_xlabel(\"Abs error X\")\n",
    "ax1.set_ylabel(\"Density\") \n",
    "sns.kdeplot(control_data['Abs error X'], ax=ax1, shade=True, color='r')\n",
    "\n",
    "ax2 = fig.add_subplot(1,2, 2)\n",
    "ax2.set_title(\"Stroke Data\")\n",
    "ax2.set_xlabel(\"Abs error X\")\n",
    "ax2.set_ylabel(\"Density\") \n",
    "sns.kdeplot(stroke_data['Abs error X'], ax=ax2, shade=True, color='g')"
   ]
  },
  {
   "cell_type": "code",
   "execution_count": null,
   "metadata": {},
   "outputs": [],
   "source": [
    "import pandas as pd\n",
    "import seaborn as sns\n",
    "\n",
    "fig = plt.figure(figsize = (6, 4))\n",
    "title = fig.suptitle(\"Abs Error X in Data\", fontsize=14)\n",
    "fig.subplots_adjust(top=0.85, wspace=0.3)\n",
    "ax = fig.add_subplot(1,1, 1)\n",
    "#plt.xlim(-6,6)\n",
    "#plt.ylim(0,2)\n",
    "#ax.set_xlabel(\"Abs error X\")\n",
    "ax.set_ylabel(\"Density\")\n",
    "#x = datas['Abs error X']\n",
    "\n",
    "g = sns.FacetGrid(final_df, hue='data_type', palette={\"stroke\": \"g\", \"control\": \"r\"})\n",
    "#g.map(sns.distplot, 'Abs error X', x.value_counts(normalize=True),ax=ax)\n",
    "g.map(sns.distplot, 'Abs error X', kde=True, bins=15, ax=ax)\n",
    "ax.legend(title='Data Type')\n",
    "plt.close(2)"
   ]
  },
  {
   "cell_type": "code",
   "execution_count": null,
   "metadata": {},
   "outputs": [],
   "source": [
    "import pandas as pd\n",
    "import seaborn as sns\n",
    "\n",
    "fig = plt.figure(figsize = (6, 4))\n",
    "title = fig.suptitle(\"Abs Error X in Data\", fontsize=14)\n",
    "fig.subplots_adjust(top=0.85, wspace=0.3)\n",
    "ax1 = fig.add_subplot(1,1, 1)\n",
    "#plt.xlim(-6,6)\n",
    "#plt.ylim(0,1)\n",
    "#ax.set_xlabel(\"Abs error X\")\n",
    "ax1.set_ylabel(\"Density\")\n",
    "#x = datas['Abs error X']\n",
    "\n",
    "g = sns.FacetGrid(datas, hue='data_type', palette={\"stroke\": \"g\", \"control\": \"r\"})\n",
    "#g.map(sns.distplot, 'Abs error X', datas.value_counts(normalize=True),ax=ax)\n",
    "g.map(sns.distplot, 'Abs error X', hist=False, kde=True, ax=ax1)\n",
    "#ax1.set_ylim(0,1.0001)\n",
    "ax1.legend(title='Data Type')\n",
    "plt.close(2)\n"
   ]
  },
  {
   "cell_type": "code",
   "execution_count": null,
   "metadata": {},
   "outputs": [],
   "source": [
    "sns.kdeplot(data='Abs error X')"
   ]
  },
  {
   "cell_type": "code",
   "execution_count": null,
   "metadata": {},
   "outputs": [],
   "source": [
    "fig = plt.figure(figsize = (6, 4))\n",
    "title = fig.suptitle(\"Abs Error Y in Data\", fontsize=14)\n",
    "fig.subplots_adjust(top=0.85, wspace=0.3)\n",
    "#plt.xlim(-6,6)\n",
    "#plt.ylim(0,2)\n",
    "ax = fig.add_subplot(1,1, 1)\n",
    "ax.set_xlabel(\"Abs error Y\")\n",
    "ax.set_ylabel(\"Density\") \n",
    "\n",
    "g = sns.FacetGrid(final_df, hue='data_type', palette={\"stroke\": \"g\", \"control\": \"r\"})\n",
    "g.map(sns.distplot, 'Abs error Y', hist=False, kde=True, bins=15, ax=ax)\n",
    "ax.legend(title='Data Type')\n",
    "plt.close(2)"
   ]
  },
  {
   "cell_type": "code",
   "execution_count": null,
   "metadata": {},
   "outputs": [],
   "source": [
    "fig = plt.figure(figsize = (6, 4))\n",
    "title = fig.suptitle(\"Abs Error XY in Data\", fontsize=14)\n",
    "fig.subplots_adjust(top=0.85, wspace=0.3)\n",
    "#plt.xlim(-6,6)\n",
    "#plt.ylim(0,2)\n",
    "ax = fig.add_subplot(1,1, 1)\n",
    "ax.set_xlabel(\"Abs error XY\")\n",
    "ax.set_ylabel(\"Density\") \n",
    "\n",
    "g = sns.FacetGrid(final_df, hue='data_type', palette={\"stroke\": \"g\", \"control\": \"r\"})\n",
    "g.map(sns.distplot, 'Abs error XY', kde=True, bins=15, ax=ax)\n",
    "ax.legend(title='Data Type')\n",
    "plt.close(2)"
   ]
  },
  {
   "cell_type": "code",
   "execution_count": null,
   "metadata": {},
   "outputs": [],
   "source": [
    "# 'Variability X', 'Variability Y', 'Variability XY', 'Shift X','Shift Y','Shift XY'\n",
    "fig = plt.figure(figsize = (6, 4))\n",
    "title = fig.suptitle(\"Variability X in Data\", fontsize=14)\n",
    "fig.subplots_adjust(top=0.85, wspace=0.3)\n",
    "plt.xlim(-6,6)\n",
    "plt.ylim(0,2)\n",
    "ax = fig.add_subplot(1,1, 1)\n",
    "ax.set_xlabel(\"Variability X\")\n",
    "ax.set_ylabel(\"Density\") \n",
    "\n",
    "g = sns.FacetGrid(final_df, hue='data_type', palette={\"stroke\": \"g\", \"control\": \"r\"})\n",
    "g.map(sns.distplot, 'Variability X', kde=True, bins=15, ax=ax)\n",
    "ax.legend(title='Data Type')\n",
    "plt.close(2)"
   ]
  },
  {
   "cell_type": "code",
   "execution_count": null,
   "metadata": {},
   "outputs": [],
   "source": [
    "# 'Variability X', 'Variability Y', 'Variability XY', 'Shift X','Shift Y','Shift XY'\n",
    "fig = plt.figure(figsize = (6, 4))\n",
    "title = fig.suptitle(\"Variability Y in Data\", fontsize=14)\n",
    "fig.subplots_adjust(top=0.85, wspace=0.3)\n",
    "plt.xlim(-6,6)\n",
    "plt.ylim(0,2)\n",
    "ax = fig.add_subplot(1,1, 1)\n",
    "ax.set_xlabel(\"Variability Y\")\n",
    "ax.set_ylabel(\"Density\") \n",
    "\n",
    "g = sns.FacetGrid(final_df, hue='data_type', palette={\"stroke\": \"g\", \"control\": \"r\"})\n",
    "g.map(sns.distplot, 'Variability Y', kde=True, bins=15, ax=ax)\n",
    "ax.legend(title='Data Type')\n",
    "plt.close(2)"
   ]
  },
  {
   "cell_type": "code",
   "execution_count": null,
   "metadata": {},
   "outputs": [],
   "source": [
    "# 'Variability X', 'Variability Y', 'Variability XY', 'Shift X','Shift Y','Shift XY'\n",
    "fig = plt.figure(figsize = (6, 4))\n",
    "title = fig.suptitle(\"Variability XY in Data\", fontsize=14)\n",
    "fig.subplots_adjust(top=0.85, wspace=0.3)\n",
    "plt.xlim(-6,6)\n",
    "plt.ylim(0,2)\n",
    "ax = fig.add_subplot(1,1, 1)\n",
    "ax.set_xlabel(\"Variability XY\")\n",
    "ax.set_ylabel(\"Density\") \n",
    "\n",
    "g = sns.FacetGrid(final_df, hue='data_type', palette={\"stroke\": \"g\", \"control\": \"r\"})\n",
    "g.map(sns.distplot, 'Variability XY', kde=True, bins=15, ax=ax)\n",
    "ax.legend(title='Data Type')\n",
    "plt.close(2)"
   ]
  },
  {
   "cell_type": "code",
   "execution_count": null,
   "metadata": {},
   "outputs": [],
   "source": [
    "fig = plt.figure(figsize = (6, 4))\n",
    "title = fig.suptitle(\"Contraction Expansion Ratio X in Data\", fontsize=14)\n",
    "fig.subplots_adjust(top=0.85, wspace=0.3)\n",
    "plt.xlim(-6,6)\n",
    "plt.ylim(0,2)\n",
    "ax = fig.add_subplot(1,1, 1)\n",
    "ax.set_xlabel(\"Contraction Expansion Ratio X\")\n",
    "ax.set_ylabel(\"Density\") \n",
    "\n",
    "g = sns.FacetGrid(final_df, hue='data_type', palette={\"stroke\": \"g\", \"control\": \"r\"})\n",
    "g.map(sns.distplot, 'Contraction expansion ratio X', kde=True, bins=15, ax=ax)\n",
    "ax.legend(title='Data Type')\n",
    "plt.close(2)"
   ]
  },
  {
   "cell_type": "code",
   "execution_count": null,
   "metadata": {},
   "outputs": [],
   "source": [
    "fig = plt.figure(figsize = (6, 4))\n",
    "title = fig.suptitle(\"Contraction Expansion Ratio Y in Data\", fontsize=14)\n",
    "fig.subplots_adjust(top=0.85, wspace=0.3)\n",
    "plt.xlim(-6,6)\n",
    "plt.ylim(0,2)\n",
    "ax = fig.add_subplot(1,1, 1)\n",
    "ax.set_xlabel(\"Contraction Expansion Ratio Y\")\n",
    "ax.set_ylabel(\"Density\") \n",
    "\n",
    "g = sns.FacetGrid(final_df, hue='data_type', palette={\"stroke\": \"g\", \"control\": \"r\"})\n",
    "g.map(sns.distplot, 'Contraction expansion ratio Y', kde=True, bins=15, ax=ax)\n",
    "ax.legend(title='Data Type')\n",
    "plt.close(2)"
   ]
  },
  {
   "cell_type": "code",
   "execution_count": null,
   "metadata": {},
   "outputs": [],
   "source": [
    "fig = plt.figure(figsize = (6, 4))\n",
    "title = fig.suptitle(\"Contraction Expansion Ratio XY in Data\", fontsize=14)\n",
    "fig.subplots_adjust(top=0.85, wspace=0.3)\n",
    "plt.xlim(-6,6)\n",
    "plt.ylim(0,2)\n",
    "ax = fig.add_subplot(1,1, 1)\n",
    "ax.set_xlabel(\"Contraction Expansion Ratio XY\")\n",
    "ax.set_ylabel(\"Density\") \n",
    "\n",
    "g = sns.FacetGrid(final_df, hue='data_type', palette={\"stroke\": \"g\", \"control\": \"r\"})\n",
    "g.map(sns.distplot, 'Contraction expansion ratio XY', kde=True, bins=15, ax=ax)\n",
    "ax.legend(title='Data Type')\n",
    "plt.close(2)"
   ]
  },
  {
   "cell_type": "code",
   "execution_count": null,
   "metadata": {},
   "outputs": [],
   "source": [
    "fig = plt.figure(figsize = (6, 4))\n",
    "title = fig.suptitle(\"Shift X in Data\", fontsize=14)\n",
    "fig.subplots_adjust(top=0.85, wspace=0.3)\n",
    "plt.xlim(-6,6)\n",
    "plt.ylim(0,2)\n",
    "ax = fig.add_subplot(1,1, 1)\n",
    "ax.set_xlabel(\"Shift X\")\n",
    "ax.set_ylabel(\"Density\") \n",
    "\n",
    "g = sns.FacetGrid(final_df, hue='data_type', palette={\"stroke\": \"g\", \"control\": \"r\"})\n",
    "g.map(sns.distplot, 'Shift X', kde=True, bins=15, ax=ax)\n",
    "ax.legend(title='Data Type')\n",
    "plt.close(2)"
   ]
  },
  {
   "cell_type": "code",
   "execution_count": null,
   "metadata": {},
   "outputs": [],
   "source": [
    "fig = plt.figure(figsize = (6, 4))\n",
    "title = fig.suptitle(\"Shift Y in Data\", fontsize=14)\n",
    "fig.subplots_adjust(top=0.85, wspace=0.3)\n",
    "plt.xlim(-6,6)\n",
    "plt.ylim(0,2)\n",
    "ax = fig.add_subplot(1,1, 1)\n",
    "ax.set_xlabel(\"Shift Y\")\n",
    "ax.set_ylabel(\"Density\") \n",
    "\n",
    "g = sns.FacetGrid(final_df, hue='data_type', palette={\"stroke\": \"g\", \"control\": \"r\"})\n",
    "g.map(sns.distplot, 'Shift Y', kde=True, bins=15, ax=ax)\n",
    "ax.legend(title='Data Type')\n",
    "plt.close(2)"
   ]
  },
  {
   "cell_type": "code",
   "execution_count": null,
   "metadata": {},
   "outputs": [],
   "source": [
    "fig = plt.figure(figsize = (6, 4))\n",
    "title = fig.suptitle(\"Shift XY in Data\", fontsize=14)\n",
    "fig.subplots_adjust(top=0.85, wspace=0.3)\n",
    "plt.xlim(-6,6)\n",
    "plt.ylim(0,2)\n",
    "ax = fig.add_subplot(1,1, 1)\n",
    "ax.set_xlabel(\"Shift XY\")\n",
    "ax.set_ylabel(\"Density\") \n",
    "\n",
    "g = sns.FacetGrid(final_df, hue='data_type', palette={\"stroke\": \"g\", \"control\": \"r\"})\n",
    "g.map(sns.distplot, 'Shift XY', kde=True, bins=15, ax=ax)\n",
    "ax.legend(title='Data Type')\n",
    "plt.close(2)"
   ]
  },
  {
   "cell_type": "code",
   "execution_count": null,
   "metadata": {},
   "outputs": [],
   "source": []
  }
 ],
 "metadata": {
  "kernelspec": {
   "display_name": "Python 3",
   "language": "python",
   "name": "python3"
  },
  "language_info": {
   "codemirror_mode": {
    "name": "ipython",
    "version": 3
   },
   "file_extension": ".py",
   "mimetype": "text/x-python",
   "name": "python",
   "nbconvert_exporter": "python",
   "pygments_lexer": "ipython3",
   "version": "3.7.4"
  }
 },
 "nbformat": 4,
 "nbformat_minor": 2
}
